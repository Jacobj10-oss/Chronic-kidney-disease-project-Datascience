{
  "nbformat": 4,
  "nbformat_minor": 0,
  "metadata": {
    "colab": {
      "private_outputs": true,
      "provenance": [],
      "authorship_tag": "ABX9TyMPVgA0W6lknwXS/ezFJVWH",
      "include_colab_link": true
    },
    "kernelspec": {
      "name": "python3",
      "display_name": "Python 3"
    },
    "language_info": {
      "name": "python"
    }
  },
  "cells": [
    {
      "cell_type": "markdown",
      "metadata": {
        "id": "view-in-github",
        "colab_type": "text"
      },
      "source": [
        "<a href=\"https://colab.research.google.com/github/Jacobj10-oss/Chronic-kidney-disease-project-Datascience/blob/main/Chronic_Kidney_disease.ipynb\" target=\"_parent\"><img src=\"https://colab.research.google.com/assets/colab-badge.svg\" alt=\"Open In Colab\"/></a>"
      ]
    },
    {
      "cell_type": "code",
      "execution_count": null,
      "metadata": {
        "id": "HrMMolHtTHE5"
      },
      "outputs": [],
      "source": [
        "import pandas as pd\n",
        "import numpy as np\n",
        "import seaborn as sns\n",
        "import matplotlib.pyplot as plt"
      ]
    },
    {
      "cell_type": "code",
      "source": [
        "df_data=pd.read_csv(\"/content/kidney_disease.csv\")"
      ],
      "metadata": {
        "id": "apzqjWa1TPVS"
      },
      "execution_count": null,
      "outputs": []
    },
    {
      "cell_type": "code",
      "source": [
        "df_data"
      ],
      "metadata": {
        "id": "V1Q_nTGdTWT6"
      },
      "execution_count": null,
      "outputs": []
    },
    {
      "cell_type": "markdown",
      "source": [
        "validation of df"
      ],
      "metadata": {
        "id": "CrFfmNvnTef8"
      }
    },
    {
      "cell_type": "code",
      "source": [
        "df_data.head()"
      ],
      "metadata": {
        "id": "7Av2-ZoxTX7g"
      },
      "execution_count": null,
      "outputs": []
    },
    {
      "cell_type": "code",
      "source": [
        "df_data.tail()"
      ],
      "metadata": {
        "id": "Y9N2lxQKTjOZ"
      },
      "execution_count": null,
      "outputs": []
    },
    {
      "cell_type": "code",
      "source": [
        "df_data.shape"
      ],
      "metadata": {
        "id": "bxSHgM05Jjvi"
      },
      "execution_count": null,
      "outputs": []
    },
    {
      "cell_type": "markdown",
      "source": [
        "pre processing"
      ],
      "metadata": {
        "id": "ucEJE3oaTn3G"
      }
    },
    {
      "cell_type": "code",
      "source": [
        "df_columns=list(df_data.select_dtypes('object').columns)"
      ],
      "metadata": {
        "id": "2ASJUQ2HTmKI"
      },
      "execution_count": null,
      "outputs": []
    },
    {
      "cell_type": "code",
      "source": [
        "df_columns"
      ],
      "metadata": {
        "id": "RsZ9yBJ3T67J"
      },
      "execution_count": null,
      "outputs": []
    },
    {
      "cell_type": "code",
      "source": [
        "from sklearn.preprocessing import LabelEncoder\n",
        "Encode=LabelEncoder()\n",
        "for column_name in df_columns:\n",
        "  df_data[column_name]=Encode.fit_transform(df_data[column_name])"
      ],
      "metadata": {
        "id": "MUjK7ikyT9RQ"
      },
      "execution_count": null,
      "outputs": []
    },
    {
      "cell_type": "code",
      "source": [
        "df_data"
      ],
      "metadata": {
        "id": "0ft4peA4UrRB"
      },
      "execution_count": null,
      "outputs": []
    },
    {
      "cell_type": "code",
      "source": [
        "df_data.dtypes"
      ],
      "metadata": {
        "id": "JVLFtVkvJ9Uk"
      },
      "execution_count": null,
      "outputs": []
    },
    {
      "cell_type": "markdown",
      "source": [
        "Null value Handling"
      ],
      "metadata": {
        "id": "COhsRu3bU4e3"
      }
    },
    {
      "cell_type": "code",
      "source": [
        "df_data.isnull().sum()"
      ],
      "metadata": {
        "id": "nUT8hv7rUyFo"
      },
      "execution_count": null,
      "outputs": []
    },
    {
      "cell_type": "markdown",
      "source": [
        "Mean Based Summarize"
      ],
      "metadata": {
        "id": "GoQXJGJXYMH6"
      }
    },
    {
      "cell_type": "code",
      "source": [
        "df_data['sod'].mean()"
      ],
      "metadata": {
        "id": "ewlc-C1CYfCy"
      },
      "execution_count": null,
      "outputs": []
    },
    {
      "cell_type": "code",
      "source": [
        "list_col_null=['age','bp','sg','al','su','bgr','bu','sc','sod','pot','hemo']\n",
        "\n",
        "for column in list_col_null:\n",
        "  df_data[column]=df_data[column].fillna(df_data[column].mean())"
      ],
      "metadata": {
        "id": "iPHJPdeYZnSX"
      },
      "execution_count": null,
      "outputs": []
    },
    {
      "cell_type": "code",
      "source": [
        "df_data.isnull().sum()"
      ],
      "metadata": {
        "id": "yL5nGNtpaswH"
      },
      "execution_count": null,
      "outputs": []
    },
    {
      "cell_type": "markdown",
      "source": [],
      "metadata": {
        "id": "PrmNA063oVWs"
      }
    },
    {
      "cell_type": "code",
      "source": [
        "plt.figure(figsize=(10,5))\n",
        "sns.countplot(x='classification',hue='age',data=df_data,palette='GnBu')"
      ],
      "metadata": {
        "id": "NwsR1oiKoXbE"
      },
      "execution_count": null,
      "outputs": []
    },
    {
      "cell_type": "markdown",
      "source": [
        "Checking classification distribution"
      ],
      "metadata": {
        "id": "kIt178I1Jd0A"
      }
    },
    {
      "cell_type": "code",
      "source": [
        "plt.figure(figsize=(40,30))\n",
        "for i,classification in enumerate(df_data.columns):\n",
        "    plt.subplot(6,5,i+1)\n",
        "    sns.distplot(df_data[classification])\n",
        "    plt.title(classification)"
      ],
      "metadata": {
        "id": "vUEomPzHJdX8"
      },
      "execution_count": null,
      "outputs": []
    },
    {
      "cell_type": "markdown",
      "source": [
        "Observations:\n",
        "    1.age looks a bit left skewed\n",
        "    2.Blood gluscose random is right skewed\n",
        "    3.Blood Urea is also a bit right skewed\n",
        "    4.Rest of the features are lightly skewed"
      ],
      "metadata": {
        "id": "Qq814sOOPVJ3"
      }
    },
    {
      "cell_type": "markdown",
      "source": [
        "Now, let's check the label distribution for categorical data"
      ],
      "metadata": {
        "id": "dpOdraJ1O6XY"
      }
    },
    {
      "cell_type": "code",
      "source": [
        "sns.countplot(x='classification',data=df_data)\n",
        "plt.xlabel(\"classification\")\n",
        "plt.ylabel(\"Count\")\n",
        "plt.title(\"target Class\")"
      ],
      "metadata": {
        "id": "fdgu_tQBRnUi"
      },
      "execution_count": null,
      "outputs": []
    },
    {
      "cell_type": "markdown",
      "source": [
        "Correlations"
      ],
      "metadata": {
        "id": "0RxxIELWR5R6"
      }
    },
    {
      "cell_type": "code",
      "source": [
        "plt.figure(figsize=(20,20))\n",
        "corr_df=df_data.corr()\n",
        "sns.heatmap(corr_df,annot=True)"
      ],
      "metadata": {
        "id": "0AAapHWqR8BZ"
      },
      "execution_count": null,
      "outputs": []
    },
    {
      "cell_type": "markdown",
      "source": [
        "split input and output"
      ],
      "metadata": {
        "id": "m7zprcDveTpZ"
      }
    },
    {
      "cell_type": "code",
      "source": [
        "y = df_data['classification']\n",
        "x = df_data.drop('classification',axis=1)"
      ],
      "metadata": {
        "id": "hnKwpg0EdpVV"
      },
      "execution_count": null,
      "outputs": []
    },
    {
      "cell_type": "markdown",
      "source": [
        "Machine Learning flow"
      ],
      "metadata": {
        "id": "1E19-3iUeYI2"
      }
    },
    {
      "cell_type": "code",
      "source": [
        "from sklearn.model_selection import train_test_split\n",
        "\n",
        "x_train,x_test,y_train,y_test=train_test_split(x,y,test_size=0.2,random_state=32)"
      ],
      "metadata": {
        "id": "b5Kd-dgXd8Sm"
      },
      "execution_count": null,
      "outputs": []
    },
    {
      "cell_type": "code",
      "source": [
        "x_train"
      ],
      "metadata": {
        "id": "xTSCINwbg2R9"
      },
      "execution_count": null,
      "outputs": []
    },
    {
      "cell_type": "markdown",
      "source": [],
      "metadata": {
        "id": "6tA8W4_IKWTd"
      }
    },
    {
      "cell_type": "markdown",
      "source": [
        "Model Creation"
      ],
      "metadata": {
        "id": "-JD5jKmQiPso"
      }
    },
    {
      "cell_type": "code",
      "source": [
        "from sklearn.linear_model import LinearRegression\n",
        "LR=LinearRegression()"
      ],
      "metadata": {
        "id": "ZSwJOMJYhwEN"
      },
      "execution_count": null,
      "outputs": []
    },
    {
      "cell_type": "markdown",
      "source": [
        "Training of Model"
      ],
      "metadata": {
        "id": "IN3v-CAljeiK"
      }
    },
    {
      "cell_type": "code",
      "source": [
        "LR.fit(x_train,y_train)"
      ],
      "metadata": {
        "id": "qvza-KVejAI_"
      },
      "execution_count": null,
      "outputs": []
    },
    {
      "cell_type": "code",
      "source": [
        "LR.predict(x_test)"
      ],
      "metadata": {
        "id": "iZJgFygGkCgk"
      },
      "execution_count": null,
      "outputs": []
    },
    {
      "cell_type": "code",
      "source": [
        "LR.score(x_train,y_train)"
      ],
      "metadata": {
        "id": "CW2j9yXvkWkc"
      },
      "execution_count": null,
      "outputs": []
    },
    {
      "cell_type": "code",
      "source": [
        "LR.score(x_test,y_test)"
      ],
      "metadata": {
        "id": "u9Lldyuqk0dL"
      },
      "execution_count": null,
      "outputs": []
    },
    {
      "cell_type": "markdown",
      "source": [
        "LogisticRegression"
      ],
      "metadata": {
        "id": "diWLG0sWFlpW"
      }
    },
    {
      "cell_type": "code",
      "source": [
        "from sklearn.linear_model import LogisticRegression\n",
        "\n",
        "LR_1=LogisticRegression()"
      ],
      "metadata": {
        "id": "r8V7B6t1lC_k"
      },
      "execution_count": null,
      "outputs": []
    },
    {
      "cell_type": "code",
      "source": [
        "LR_1.fit(x_train,y_train)"
      ],
      "metadata": {
        "id": "ebJ_f1qtGTI3"
      },
      "execution_count": null,
      "outputs": []
    },
    {
      "cell_type": "code",
      "source": [
        "LR_1.predict(x_test)"
      ],
      "metadata": {
        "id": "UKVb9tBYGfrQ"
      },
      "execution_count": null,
      "outputs": []
    },
    {
      "cell_type": "code",
      "source": [
        "LR_1.score(x_test,y_test)*100"
      ],
      "metadata": {
        "id": "PRg5wWMPGqCe"
      },
      "execution_count": null,
      "outputs": []
    },
    {
      "cell_type": "markdown",
      "source": [
        "Decision Tree"
      ],
      "metadata": {
        "id": "gQrR265zG-hL"
      }
    },
    {
      "cell_type": "code",
      "source": [
        "from sklearn.tree import DecisionTreeClassifier\n",
        "\n",
        "DC=DecisionTreeClassifier()"
      ],
      "metadata": {
        "id": "-HRBKSwoG4EW"
      },
      "execution_count": null,
      "outputs": []
    },
    {
      "cell_type": "code",
      "source": [
        "DC.fit(x_train,y_train)"
      ],
      "metadata": {
        "id": "7VQh-lVbHcDm"
      },
      "execution_count": null,
      "outputs": []
    },
    {
      "cell_type": "code",
      "source": [
        "DC.predict(x_test)"
      ],
      "metadata": {
        "id": "_ReXp-jeHmHO"
      },
      "execution_count": null,
      "outputs": []
    },
    {
      "cell_type": "code",
      "source": [
        "DC.score(x_test,y_test)*100"
      ],
      "metadata": {
        "id": "yyjLdxmWHqXu"
      },
      "execution_count": null,
      "outputs": []
    },
    {
      "cell_type": "code",
      "source": [
        "DC.score(x_train,y_train)*100"
      ],
      "metadata": {
        "id": "yNR2M9LNIaxe"
      },
      "execution_count": null,
      "outputs": []
    },
    {
      "cell_type": "markdown",
      "source": [
        "RandomForest"
      ],
      "metadata": {
        "id": "GtRXSSioJHmf"
      }
    },
    {
      "cell_type": "code",
      "source": [
        "from sklearn.ensemble import RandomForestClassifier\n",
        "\n",
        "RF=RandomForestClassifier()"
      ],
      "metadata": {
        "id": "nFrJoUK9Ihgm"
      },
      "execution_count": null,
      "outputs": []
    },
    {
      "cell_type": "code",
      "source": [
        "RF.fit(x_train,y_train)"
      ],
      "metadata": {
        "id": "HgfiOuUEJevp"
      },
      "execution_count": null,
      "outputs": []
    },
    {
      "cell_type": "code",
      "source": [
        "RF.predict(x_test)"
      ],
      "metadata": {
        "id": "N4MS4MyJJjTd"
      },
      "execution_count": null,
      "outputs": []
    },
    {
      "cell_type": "code",
      "source": [
        "RF.score(x_test,y_test)*100"
      ],
      "metadata": {
        "id": "9sOV437TJoB-"
      },
      "execution_count": null,
      "outputs": []
    },
    {
      "cell_type": "code",
      "source": [
        "RF.score(x_train,y_train)*100"
      ],
      "metadata": {
        "id": "WUAAziktJtIu"
      },
      "execution_count": null,
      "outputs": []
    },
    {
      "cell_type": "markdown",
      "source": [
        "Metrics"
      ],
      "metadata": {
        "id": "J98Sbs4aVADF"
      }
    },
    {
      "cell_type": "code",
      "source": [
        "from sklearn.metrics import confusion_matrix\n",
        "cm=confusion_matrix(y_test,LR_1.predict(x_test))\n",
        "cm"
      ],
      "metadata": {
        "id": "8HYczmgcJ0T9"
      },
      "execution_count": null,
      "outputs": []
    },
    {
      "cell_type": "code",
      "source": [
        "from sklearn.metrics import accuracy_score\n",
        "accuracy_score(y_test,LR_1.predict(x_test))"
      ],
      "metadata": {
        "id": "y9hu46acVpw9"
      },
      "execution_count": null,
      "outputs": []
    },
    {
      "cell_type": "code",
      "source": [],
      "metadata": {
        "id": "worAvKxPW5Wm"
      },
      "execution_count": null,
      "outputs": []
    }
  ]
}